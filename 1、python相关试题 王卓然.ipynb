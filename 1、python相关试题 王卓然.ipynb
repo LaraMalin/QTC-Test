{
 "cells": [
  {
   "cell_type": "markdown",
   "metadata": {},
   "source": [
    "# 1.python基础试题"
   ]
  },
  {
   "cell_type": "markdown",
   "metadata": {},
   "source": [
    "1.1 python 中boolean、float 和 int 分别表示什么？\n",
    "    #布尔值\\浮点型\\整数型"
   ]
  },
  {
   "cell_type": "markdown",
   "metadata": {},
   "source": [
    "1.2  设计求1-2+3-4+5 ... 99的所有数的和"
   ]
  },
  {
   "cell_type": "code",
   "execution_count": 2,
   "metadata": {},
   "outputs": [
    {
     "data": {
      "text/plain": [
       "50"
      ]
     },
     "execution_count": 2,
     "metadata": {},
     "output_type": "execute_result"
    }
   ],
   "source": [
    "sum((sum(range(1, 100)[::2]), -sum(range(1, 100)[1::2])))"
   ]
  },
  {
   "cell_type": "markdown",
   "metadata": {},
   "source": [
    "1.3  将字符串 s=\"yoyo\" 转换成列表"
   ]
  },
  {
   "cell_type": "code",
   "execution_count": 26,
   "metadata": {},
   "outputs": [
    {
     "data": {
      "text/plain": [
       "['y', 'o', 'y', 'o']"
      ]
     },
     "execution_count": 26,
     "metadata": {},
     "output_type": "execute_result"
    }
   ],
   "source": [
    " s = \"yoyo\"\n",
    "list(s)"
   ]
  },
  {
   "cell_type": "markdown",
   "metadata": {},
   "source": [
    "# 2. python进阶基础试题"
   ]
  },
  {
   "cell_type": "markdown",
   "metadata": {},
   "source": [
    "2.1     for i in range(1,100)[2::3][-10:]: \n",
    "\n",
    "                print i \n",
    "                \n",
    "        # 理解这段代码，并说出它是如何取数的\n",
    "        # 利用range函数生成1-100的数，取3的倍数，取最后十个数"
   ]
  },
  {
   "cell_type": "markdown",
   "metadata": {},
   "source": [
    "2.2 使用init 实例化时自动运行  分别计算单只股票最高价和收盘价两个时间点差值问题,可统一为one、two两个时间点,其最高价和收盘价赋值为 one(15,7) two(66,20)"
   ]
  },
  {
   "cell_type": "code",
   "execution_count": 27,
   "metadata": {},
   "outputs": [
    {
     "name": "stdout",
     "output_type": "stream",
     "text": [
      "{'one_dif': 8}\n",
      "{'two_dif': 46}\n"
     ]
    }
   ],
   "source": [
    "class dif:\n",
    "    def __init__(self,dif, a, b):\n",
    "        self.dif=dif\n",
    "        self.a = a\n",
    "        self.b = b\n",
    "    def pdif(self):\n",
    "        return {self.dif+'_dif': (self.a-self.b)}\n",
    "\n",
    "one = dif('one',15, 7)\n",
    "print(one.pdif())\n",
    "\n",
    "two = dif('two', 66, 20)\n",
    "print(two.pdif())"
   ]
  },
  {
   "cell_type": "markdown",
   "metadata": {},
   "source": [
    "# 3. pandas数据处理试题"
   ]
  },
  {
   "cell_type": "markdown",
   "metadata": {},
   "source": [
    "3.1 如何查看列名、怎么对数据转置"
   ]
  },
  {
   "cell_type": "markdown",
   "metadata": {},
   "source": [
    "3.2 读取data里的600029这只股票的DataFrame,将其收盘价转换成用Numpy的Array格式，并用talib计算10日EMA值，返回ndarray的最后五个值"
   ]
  },
  {
   "cell_type": "code",
   "execution_count": 21,
   "metadata": {},
   "outputs": [
    {
     "data": {
      "text/plain": [
       "array([11.64, 11.72, 11.8 , 11.8 , 11.85, 12.73, 12.13, 11.98, 11.97,\n",
       "       12.02, 11.97, 12.03, 11.98, 12.03, 12.17, 12.18, 12.22, 12.08,\n",
       "       12.03, 11.89, 11.89, 11.95, 11.98, 12.15, 12.2 , 12.18, 12.3 ,\n",
       "       12.48, 12.3 , 12.68, 12.76, 12.79, 12.61, 13.07, 12.69, 12.71,\n",
       "       12.86, 12.76, 12.74, 12.88, 12.78, 12.73, 12.69, 12.76, 12.83,\n",
       "       12.91, 13.09, 13.16, 12.96, 12.81, 12.79, 13.01, 13.09, 13.52,\n",
       "       13.54, 13.32, 13.47, 13.49, 13.62, 13.77, 13.95, 13.67, 13.63,\n",
       "       13.45, 13.49, 13.39, 13.27, 13.32, 13.44, 13.32, 13.01, 12.61,\n",
       "       12.78, 12.71, 12.84, 12.96, 12.86, 13.06, 13.21, 13.19, 13.06,\n",
       "       13.29, 13.5 , 13.49, 13.52, 13.35, 13.35, 13.21, 13.35, 13.5 ,\n",
       "       13.52, 13.73, 14.03, 14.25, 14.53, 14.31, 14.38, 14.46, 14.38,\n",
       "       14.76, 14.89, 14.99, 14.82, 14.59, 14.67, 14.67, 14.99, 14.74,\n",
       "       14.76, 14.82, 14.63, 14.94, 14.53, 14.25, 14.3 , 14.36, 14.21,\n",
       "       14.2 , 14.28, 14.26, 14.16, 13.82, 13.83, 13.7 , 13.9 , 14.11,\n",
       "       14.1 , 14.18, 14.25, 14.08, 14.13, 14.1 , 13.72, 13.17, 13.27,\n",
       "       13.22, 13.29, 13.44, 13.37, 13.14, 13.16, 13.19, 13.22, 13.04,\n",
       "       13.45, 13.52, 13.45, 13.52, 13.73, 13.85, 13.9 , 13.78, 13.78,\n",
       "       13.77, 13.42, 13.59, 13.83, 13.92, 14.61, 14.48, 14.28, 14.49,\n",
       "       14.59, 14.54, 14.31, 14.96, 14.89, 14.66, 14.49, 14.41, 14.36,\n",
       "       14.31, 14.08, 14.01, 13.73, 13.83, 14.  , 13.9 , 13.75, 13.63,\n",
       "       13.65, 13.7 , 13.65, 13.67, 13.52, 13.57, 13.47, 13.32, 13.44,\n",
       "       13.55, 13.65, 13.68, 13.85, 13.82, 13.83, 14.11, 14.25, 14.39,\n",
       "       15.1 , 15.15, 15.22, 14.97, 14.89, 14.99, 14.71, 15.07, 15.35,\n",
       "       16.  , 16.04, 16.29, 16.97, 17.05])"
      ]
     },
     "execution_count": 21,
     "metadata": {},
     "output_type": "execute_result"
    }
   ],
   "source": [
    "import numpy as np\n",
    "import pandas as pd\n",
    "data=pd.read_excel('/Users/janicewoll/Desktop/sz50.xlsx',sheet_name='600029.XSHG', index_col='datetime')\n",
    "data_frame= pd.DataFrame(data)\n",
    "data_frame = data['close']\n",
    "data_frame.values"
   ]
  },
  {
   "cell_type": "code",
   "execution_count": 22,
   "metadata": {},
   "outputs": [
    {
     "name": "stdout",
     "output_type": "stream",
     "text": [
      "<class 'numpy.ndarray'>\n",
      "[15.145 15.239 15.353 15.528 15.736]\n"
     ]
    }
   ],
   "source": [
    "import talib as ta\n",
    "MA = ta.MA(data_frame.values,10)\n",
    "print(type(MA))\n",
    "print(MA[-5:])"
   ]
  },
  {
   "cell_type": "markdown",
   "metadata": {},
   "source": [
    "3.3 读取sz50.xlsx的['600029.XSHG','600050.XSHG','601318.XSHG']的全数据做成Panel"
   ]
  },
  {
   "cell_type": "code",
   "execution_count": 24,
   "metadata": {},
   "outputs": [
    {
     "name": "stdout",
     "output_type": "stream",
     "text": [
      "<class 'pandas.core.panel.Panel'>\n",
      "Dimensions: 3 (items) x 34 (major_axis) x 5 (minor_axis)\n",
      "Items axis: 600029.XSHG to 601318.XSHG\n",
      "Major_axis axis: 2017-03-21 15:00:00 to 2017-05-10 15:00:00\n",
      "Minor_axis axis: close to volume\n"
     ]
    }
   ],
   "source": [
    "from datetime import datetime\n",
    "import pandas as pd\n",
    "symbol=['600029.XSHG','600050.XSHG','601318.XSHG']\n",
    "data_dict = {}\n",
    "for s in symbol:\n",
    "    data =  pd.read_excel('/Users/janicewoll/Desktop/sz50.xlsx',sheet_name=s, index_col='datetime')\n",
    "    data_dict[s] = data.loc['2017-03-21':'2017-05-10']\n",
    "PN = pd.Panel(data_dict)\n",
    "print(PN)"
   ]
  },
  {
   "cell_type": "markdown",
   "metadata": {},
   "source": [
    "3.4把Panel转成ndim为3的Numpy，然后用array的切片读取ndim为2的三只股票最近20天的收盘价"
   ]
  },
  {
   "cell_type": "code",
   "execution_count": 33,
   "metadata": {},
   "outputs": [
    {
     "name": "stdout",
     "output_type": "stream",
     "text": [
      "(3, 34, 5)\n",
      "[[13.67 13.63 13.45 13.49 13.39 13.27 13.32 13.44 13.32 13.01 12.61 12.78\n",
      "  12.71 12.84 12.96 12.86 13.06 13.21 13.19 13.06]\n",
      " [  nan   nan   nan   nan   nan   nan   nan   nan   nan   nan   nan   nan\n",
      "    nan   nan   nan   nan   nan   nan   nan   nan]\n",
      " [80.63 80.43 80.38 80.67 79.96 79.51 80.18 80.79 81.01 81.66 84.01 84.71\n",
      "  85.   84.93 85.11 84.68 83.41 84.59 85.11 89.36]]\n"
     ]
    }
   ],
   "source": [
    "import numpy as np\n",
    "a=np.array(PN)\n",
    "print(a.shape)\n",
    "s_close=a[:,-20:,0]\n",
    "print(s_close)"
   ]
  },
  {
   "cell_type": "markdown",
   "metadata": {},
   "source": [
    "3.5 建立一个5*5的矩阵，值从0到24"
   ]
  },
  {
   "cell_type": "code",
   "execution_count": 34,
   "metadata": {},
   "outputs": [
    {
     "name": "stdout",
     "output_type": "stream",
     "text": [
      "[[ 0  1  2  3  4]\n",
      " [ 5  6  7  8  9]\n",
      " [10 11 12 13 14]\n",
      " [15 16 17 18 19]\n",
      " [20 21 22 23 24]]\n"
     ]
    }
   ],
   "source": [
    "Z = np.arange(0, 25).reshape(5, 5)\n",
    "print(Z)"
   ]
  },
  {
   "cell_type": "code",
   "execution_count": null,
   "metadata": {},
   "outputs": [],
   "source": []
  }
 ],
 "metadata": {
  "kernelspec": {
   "display_name": "Python 3",
   "language": "python",
   "name": "python3"
  },
  "language_info": {
   "codemirror_mode": {
    "name": "ipython",
    "version": 3
   },
   "file_extension": ".py",
   "mimetype": "text/x-python",
   "name": "python",
   "nbconvert_exporter": "python",
   "pygments_lexer": "ipython3",
   "version": "3.6.4"
  }
 },
 "nbformat": 4,
 "nbformat_minor": 2
}
